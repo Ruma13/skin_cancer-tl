{
  "metadata": {
    "kernelspec": {
      "language": "python",
      "display_name": "Python 3",
      "name": "python3"
    },
    "language_info": {
      "name": "python",
      "version": "3.11.13",
      "mimetype": "text/x-python",
      "codemirror_mode": {
        "name": "ipython",
        "version": 3
      },
      "pygments_lexer": "ipython3",
      "nbconvert_exporter": "python",
      "file_extension": ".py"
    },
    "kaggle": {
      "accelerator": "none",
      "dataSources": [
        {
          "sourceId": 505351,
          "sourceType": "datasetVersion",
          "datasetId": 174469
        }
      ],
      "dockerImageVersionId": 31089,
      "isInternetEnabled": true,
      "language": "python",
      "sourceType": "notebook",
      "isGpuEnabled": false
    },
    "colab": {
      "provenance": [],
      "include_colab_link": true
    }
  },
  "nbformat_minor": 0,
  "nbformat": 4,
  "cells": [
    {
      "cell_type": "markdown",
      "metadata": {
        "id": "view-in-github",
        "colab_type": "text"
      },
      "source": [
        "<a href=\"https://colab.research.google.com/github/Ruma13/skin_cancer-tl/blob/main/DenseNet121_Fusion_CBAM_PrePool.ipynb\" target=\"_parent\"><img src=\"https://colab.research.google.com/assets/colab-badge.svg\" alt=\"Open In Colab\"/></a>"
      ]
    },
    {
      "source": [
        "import kagglehub\n",
        "fanconic_skin_cancer_malignant_vs_benign_path = kagglehub.dataset_download('fanconic/skin-cancer-malignant-vs-benign')\n",
        "\n",
        "print('Data source import complete.')\n"
      ],
      "metadata": {
        "id": "GFL_K59KI8iH"
      },
      "cell_type": "code",
      "outputs": [],
      "execution_count": null
    },
    {
      "cell_type": "code",
      "source": [
        "import os\n",
        "import math\n",
        "import copy\n",
        "import time\n",
        "import numpy as np\n",
        "from typing import Tuple, Dict, Any\n",
        "import torch\n",
        "import torch.nn as nn\n",
        "import torch.nn.functional as F\n",
        "from torch.utils.data import DataLoader, WeightedRandomSampler\n",
        "from torchvision import models, transforms, datasets\n",
        "\n",
        "from sklearn.metrics import classification_report, confusion_matrix, f1_score, precision_score, recall_score, roc_auc_score\n",
        "import matplotlib.pyplot as plt\n",
        "from itertools import cycle\n",
        "\n",
        "device = torch.device(\"cuda\" if torch.cuda.is_available() else \"cpu\")\n",
        "print(\"Device:\", device)\n"
      ],
      "metadata": {
        "_uuid": "8f2839f25d086af736a60e9eeb907d3b93b6e0e5",
        "_cell_guid": "b1076dfc-b9ad-4769-8c92-a6c4dae69d19",
        "trusted": true,
        "execution": {
          "iopub.status.busy": "2025-09-11T02:03:38.972904Z",
          "iopub.execute_input": "2025-09-11T02:03:38.974185Z",
          "iopub.status.idle": "2025-09-11T02:03:38.983997Z",
          "shell.execute_reply.started": "2025-09-11T02:03:38.974134Z",
          "shell.execute_reply": "2025-09-11T02:03:38.982295Z"
        },
        "id": "lSN8SmIWI8iJ",
        "outputId": "87689120-8d27-4d29-8707-6063b461e339"
      },
      "outputs": [
        {
          "name": "stdout",
          "text": "Device: cpu\n",
          "output_type": "stream"
        }
      ],
      "execution_count": null
    },
    {
      "cell_type": "markdown",
      "source": [
        "**DATA**"
      ],
      "metadata": {
        "id": "4kSO4ANaI8iK"
      }
    },
    {
      "cell_type": "code",
      "source": [
        "import os\n",
        "from torch.utils.data import DataLoader, random_split\n",
        "from torchvision import datasets, transforms\n",
        "\n",
        "data_dir = \"/kaggle/input/skin-cancer-malignant-vs-benign\"  # Set your dataset path\n",
        "batch_size = 32\n",
        "num_workers = 4\n",
        "img_size = 224\n",
        "\n",
        "data_transforms = {\n",
        "    \"train\": transforms.Compose([\n",
        "        transforms.Resize((img_size, img_size)),\n",
        "        transforms.RandomHorizontalFlip(),\n",
        "        transforms.RandomRotation(15),\n",
        "        transforms.ToTensor(),\n",
        "        transforms.Normalize(mean=[0.485, 0.456, 0.406],\n",
        "                             std=[0.229, 0.224, 0.225]),\n",
        "    ]),\n",
        "    \"val\": transforms.Compose([\n",
        "        transforms.Resize((img_size, img_size)),\n",
        "        transforms.ToTensor(),\n",
        "        transforms.Normalize(mean=[0.485, 0.456, 0.406],\n",
        "                             std=[0.229, 0.224, 0.225]),\n",
        "    ]),\n",
        "    \"test\": transforms.Compose([\n",
        "        transforms.Resize((img_size, img_size)),\n",
        "        transforms.ToTensor(),\n",
        "        transforms.Normalize(mean=[0.485, 0.456, 0.406],\n",
        "                             std=[0.229, 0.224, 0.225]),\n",
        "    ]),\n",
        "}\n",
        "\n",
        "\n",
        "full_train_dataset = datasets.ImageFolder(\n",
        "    os.path.join(data_dir, \"train\"),\n",
        "    transform=data_transforms[\"train\"]\n",
        ")\n",
        "\n",
        "val_size = int(0.2 * len(full_train_dataset))\n",
        "train_size = len(full_train_dataset) - val_size\n",
        "train_dataset, val_dataset = random_split(full_train_dataset, [train_size, val_size])\n",
        "\n",
        "# ==== LOAD TEST DATASET ====\n",
        "test_dataset = datasets.ImageFolder(\n",
        "    os.path.join(data_dir, \"test\"),\n",
        "    transform=data_transforms[\"test\"]\n",
        ")\n",
        "\n",
        "\n",
        "train_loader = DataLoader(train_dataset, batch_size=batch_size, shuffle=True,\n",
        "                          num_workers=num_workers, pin_memory=True)\n",
        "val_loader = DataLoader(val_dataset, batch_size=batch_size, shuffle=False,\n",
        "                        num_workers=num_workers, pin_memory=True)\n",
        "test_loader = DataLoader(test_dataset, batch_size=batch_size, shuffle=False,\n",
        "                         num_workers=num_workers, pin_memory=True)\n",
        "\n",
        "class_names = full_train_dataset.classes\n",
        "num_classes = len(class_names)\n",
        "print(\"Classes:\", class_names)\n"
      ],
      "metadata": {
        "trusted": true,
        "execution": {
          "iopub.status.busy": "2025-09-11T02:03:38.986816Z",
          "iopub.execute_input": "2025-09-11T02:03:38.987203Z",
          "iopub.status.idle": "2025-09-11T02:03:40.923595Z",
          "shell.execute_reply.started": "2025-09-11T02:03:38.98717Z",
          "shell.execute_reply": "2025-09-11T02:03:40.922687Z"
        },
        "id": "1QSx_jTKI8iL",
        "outputId": "1299438c-215d-4f7d-bfa4-1f0dfe02ab9f"
      },
      "outputs": [
        {
          "name": "stdout",
          "text": "Classes: ['benign', 'malignant']\n",
          "output_type": "stream"
        }
      ],
      "execution_count": null
    },
    {
      "cell_type": "markdown",
      "source": [
        "**Class Weights And Sampler(Optional)**"
      ],
      "metadata": {
        "id": "Tb893YgRI8iM"
      }
    },
    {
      "cell_type": "code",
      "source": [
        "import numpy as np\n",
        "\n",
        "# Initialize counts\n",
        "counts = np.zeros(num_classes, dtype=np.int64)\n",
        "\n",
        "# full_train_dataset is a Subset of ImageFolder, but here we need the original ImageFolder\n",
        "# full_train_dataset.dataset.imgs gives all (path, label) pairs\n",
        "for _, label in full_train_dataset.imgs:\n",
        "    counts[label] += 1\n",
        "\n",
        "print(\"Class counts:\", counts)\n",
        "\n",
        "# Compute class weights\n",
        "class_weights = 1.0 / counts\n",
        "sample_weights = [class_weights[label] for _, label in full_train_dataset.imgs]\n",
        "\n",
        "# Weighted sampler\n",
        "from torch.utils.data import WeightedRandomSampler\n",
        "sampler = WeightedRandomSampler(sample_weights, num_samples=len(sample_weights), replacement=True)\n",
        "\n",
        "# Create train_loader with sampler\n",
        "from torch.utils.data import DataLoader\n",
        "\n",
        "train_loader = DataLoader(train_dataset, batch_size=batch_size, sampler=sampler,\n",
        "                          num_workers=num_workers, pin_memory=True)\n"
      ],
      "metadata": {
        "trusted": true,
        "execution": {
          "iopub.status.busy": "2025-09-11T02:03:40.924692Z",
          "iopub.execute_input": "2025-09-11T02:03:40.924995Z",
          "iopub.status.idle": "2025-09-11T02:03:40.939125Z",
          "shell.execute_reply.started": "2025-09-11T02:03:40.924972Z",
          "shell.execute_reply": "2025-09-11T02:03:40.937612Z"
        },
        "id": "Hi4-cw4EI8iM",
        "outputId": "e80959ad-2861-440f-9155-9a155461200d"
      },
      "outputs": [
        {
          "name": "stdout",
          "text": "Class counts: [1440 1197]\n",
          "output_type": "stream"
        }
      ],
      "execution_count": null
    },
    {
      "cell_type": "markdown",
      "source": [
        "**CBAM: Channel & Spatial Attention**"
      ],
      "metadata": {
        "id": "rzubpmrrI8iN"
      }
    },
    {
      "cell_type": "code",
      "source": [
        "\n",
        "class ChannelAttention(nn.Module):\n",
        "    def __init__(self, in_channels: int, reduction: int = 16):\n",
        "        super().__init__()\n",
        "        hidden = max(in_channels // reduction, 1)\n",
        "        self.mlp = nn.Sequential(\n",
        "            nn.Linear(in_channels, hidden, bias=False),\n",
        "            nn.ReLU(inplace=True),\n",
        "            nn.Linear(hidden, in_channels, bias=False)\n",
        "        )\n",
        "        self.pool_avg = nn.AdaptiveAvgPool2d(1)\n",
        "        self.pool_max = nn.AdaptiveMaxPool2d(1)\n",
        "        self.sigmoid = nn.Sigmoid()\n",
        "\n",
        "    def forward(self, x):\n",
        "        b, c, _, _ = x.size()\n",
        "        avg = self.pool_avg(x).view(b, c)\n",
        "        mx  = self.pool_max(x).view(b, c)\n",
        "        attn = self.mlp(avg) + self.mlp(mx)\n",
        "        attn = self.sigmoid(attn).view(b, c, 1, 1)\n",
        "        return x * attn\n",
        "\n",
        "\n",
        "class SpatialAttention(nn.Module):\n",
        "    def __init__(self, kernel_size: int = 7):\n",
        "        super().__init__()\n",
        "        padding = kernel_size // 2\n",
        "        self.conv = nn.Conv2d(2, 1, kernel_size, padding=padding, bias=False)\n",
        "        self.sigmoid = nn.Sigmoid()\n",
        "\n",
        "    def forward(self, x):\n",
        "        # channel-wise avg and max\n",
        "        avg = torch.mean(x, dim=1, keepdim=True)\n",
        "        mx, _ = torch.max(x, dim=1, keepdim=True)\n",
        "        feat = torch.cat([avg, mx], dim=1)\n",
        "        attn = self.sigmoid(self.conv(feat))\n",
        "        return x * attn\n",
        "\n",
        "\n",
        "class CBAM(nn.Module):\n",
        "    def __init__(self, in_channels: int, reduction: int = 16, sa_kernel: int = 7):\n",
        "        super().__init__()\n",
        "        self.ca = ChannelAttention(in_channels, reduction)\n",
        "        self.sa = SpatialAttention(sa_kernel)\n",
        "\n",
        "    def forward(self, x):\n",
        "        x = self.ca(x)\n",
        "        x = self.sa(x)\n",
        "        return x\n"
      ],
      "metadata": {
        "trusted": true,
        "execution": {
          "iopub.status.busy": "2025-09-11T02:03:40.941745Z",
          "iopub.execute_input": "2025-09-11T02:03:40.942074Z",
          "iopub.status.idle": "2025-09-11T02:03:40.967975Z",
          "shell.execute_reply.started": "2025-09-11T02:03:40.942049Z",
          "shell.execute_reply": "2025-09-11T02:03:40.966539Z"
        },
        "id": "WBYlj2KVI8iO"
      },
      "outputs": [],
      "execution_count": null
    },
    {
      "cell_type": "markdown",
      "source": [
        "**Model: DenseNet121 Backbone up to layer4 → CBAM → Mid Head → GAP → FC**"
      ],
      "metadata": {
        "id": "b4OoQa-AI8iO"
      }
    },
    {
      "cell_type": "code",
      "source": [
        "import torch\n",
        "import torch.nn as nn\n",
        "from torchvision import models\n",
        "\n",
        "class DenseNetCBAMFusion(nn.Module):\n",
        "    def __init__(self, num_classes: int, unfreeze_last_block: bool = True, mid_channels: int = 1024):\n",
        "        super().__init__()\n",
        "        # Load pretrained DenseNet121\n",
        "        backbone = models.densenet121(weights=models.DenseNet121_Weights.IMAGENET1K_V1)\n",
        "\n",
        "        # Take all convolutional features (everything before classifier)\n",
        "        self.stem = backbone.features  # output: (B, 1024, H/32, W/32)\n",
        "        in_ch = 1024\n",
        "\n",
        "        # Freeze all layers by default\n",
        "        for p in self.stem.parameters():\n",
        "            p.requires_grad = False\n",
        "\n",
        "        # Optionally unfreeze last denseblock + transition for fine-tuning\n",
        "        if unfreeze_last_block:\n",
        "            for p in list(self.stem[-6:].parameters()):  # last denseblock + transition\n",
        "                p.requires_grad = True\n",
        "\n",
        "        # CBAM attention\n",
        "        self.attn = CBAM(in_ch, reduction=16, sa_kernel=7)\n",
        "\n",
        "        # Mid head on feature maps (keeps spatial info)\n",
        "        self.mid = nn.Sequential(\n",
        "            nn.Conv2d(in_ch, mid_channels, kernel_size=3, padding=1, bias=False),\n",
        "            nn.BatchNorm2d(mid_channels),\n",
        "            nn.ReLU(inplace=True)\n",
        "        )\n",
        "\n",
        "        self.pool = nn.AdaptiveAvgPool2d(1)\n",
        "        self.fc = nn.Linear(mid_channels, num_classes)\n",
        "\n",
        "    def forward(self, x):\n",
        "        x = self.stem(x)       # (B, 1024, H/32, W/32)\n",
        "        x = self.attn(x)       # CBAM on maps\n",
        "        x = self.mid(x)        # (B, mid, H/32, W/32)\n",
        "        x = self.pool(x)       # (B, mid, 1, 1)\n",
        "        x = torch.flatten(x, 1)  # (B, mid)\n",
        "        logits = self.fc(x)\n",
        "        return logits\n",
        "\n",
        "# Initialize model\n",
        "model = DenseNetCBAMFusion(num_classes=num_classes, unfreeze_last_block=True, mid_channels=1024).to(device)\n",
        "print(model.__class__.__name__)\n"
      ],
      "metadata": {
        "trusted": true,
        "execution": {
          "iopub.status.busy": "2025-09-11T02:03:40.969244Z",
          "iopub.execute_input": "2025-09-11T02:03:40.969731Z",
          "iopub.status.idle": "2025-09-11T02:03:41.315348Z",
          "shell.execute_reply.started": "2025-09-11T02:03:40.969703Z",
          "shell.execute_reply": "2025-09-11T02:03:41.314317Z"
        },
        "id": "5RiovEyuI8iP",
        "outputId": "996de653-3314-4bd4-ea6d-4d483e02d38a"
      },
      "outputs": [
        {
          "name": "stdout",
          "text": "DenseNetCBAMFusion\n",
          "output_type": "stream"
        }
      ],
      "execution_count": null
    },
    {
      "cell_type": "markdown",
      "source": [
        "**Optimizer, Loss, and Scheduler**"
      ],
      "metadata": {
        "id": "W8kMZZ4tI8iP"
      }
    },
    {
      "cell_type": "code",
      "source": [
        "\n",
        "epochs = 15\n",
        "lr = 1e-3\n",
        "weight_decay = 1e-4\n",
        "\n",
        "criterion = nn.CrossEntropyLoss()   # <-- fixed here\n",
        "\n",
        "trainable_params = [p for p in model.parameters() if p.requires_grad]\n",
        "optimizer = torch.optim.AdamW(trainable_params, lr=lr, weight_decay=weight_decay)\n",
        "scheduler = torch.optim.lr_scheduler.CosineAnnealingLR(optimizer, T_max=epochs)"
      ],
      "metadata": {
        "trusted": true,
        "execution": {
          "iopub.status.busy": "2025-09-11T02:03:41.316507Z",
          "iopub.execute_input": "2025-09-11T02:03:41.317096Z",
          "iopub.status.idle": "2025-09-11T02:03:41.32575Z",
          "shell.execute_reply.started": "2025-09-11T02:03:41.317061Z",
          "shell.execute_reply": "2025-09-11T02:03:41.32429Z"
        },
        "id": "XrUBPTSWI8iP"
      },
      "outputs": [],
      "execution_count": null
    },
    {
      "cell_type": "markdown",
      "source": [
        "**Traning And Early Stopping**"
      ],
      "metadata": {
        "id": "M6gRJ0rXI8iQ"
      }
    },
    {
      "cell_type": "code",
      "source": [
        "import torch\n",
        "import torch.nn as nn\n",
        "import torch.optim as optim\n",
        "from torch.utils.data import DataLoader, WeightedRandomSampler\n",
        "import numpy as np\n",
        "import copy, time\n",
        "from sklearn.metrics import f1_score, precision_score, recall_score, roc_auc_score\n",
        "\n",
        "\n",
        "batch_size = 32\n",
        "\n",
        "# Get labels for only the subset used in train_dataset\n",
        "subset_labels = [full_train_dataset.targets[i] for i in train_dataset.indices]\n",
        "\n",
        "# Count samples per class\n",
        "counts = np.bincount(subset_labels, minlength=num_classes)\n",
        "\n",
        "# Compute class weights (inverse frequency)\n",
        "class_weights = 1.0 / counts\n",
        "class_weights_tensor = torch.tensor(class_weights, dtype=torch.float).to(device)\n",
        "\n",
        "# Assign a weight to each sample in the subset\n",
        "sample_weights = [class_weights[label] for label in subset_labels]\n",
        "\n",
        "# Weighted sampler for training\n",
        "sampler = WeightedRandomSampler(\n",
        "    weights=sample_weights,\n",
        "    num_samples=len(sample_weights),\n",
        "    replacement=True\n",
        ")\n",
        "\n",
        "train_loader = DataLoader(train_dataset, batch_size=batch_size, sampler=sampler, num_workers=2, pin_memory=True)\n",
        "val_loader   = DataLoader(val_dataset, batch_size=batch_size, shuffle=False, num_workers=2, pin_memory=True)\n",
        "test_loader  = DataLoader(test_dataset, batch_size=batch_size, shuffle=False, num_workers=2, pin_memory=True)\n",
        "\n",
        "dataloaders = {\n",
        "    \"train\": train_loader,\n",
        "    \"val\": val_loader,\n",
        "    \"test\": test_loader\n",
        "}\n",
        "\n",
        "print(\"DataLoaders ready!\")\n",
        "print(f\"Train: {len(train_dataset)}, Val: {len(val_dataset)}, Test: {len(test_dataset)}\")\n",
        "\n",
        "\n",
        "def train_one_epoch(model, loader, optimizer, criterion):\n",
        "    model.train()\n",
        "    running_loss, correct, total = 0.0, 0, 0\n",
        "    for images, targets in loader:\n",
        "        images, targets = images.to(device), targets.to(device)\n",
        "        optimizer.zero_grad()\n",
        "        logits = model(images)\n",
        "        loss = criterion(logits, targets)\n",
        "        loss.backward()\n",
        "        optimizer.step()\n",
        "\n",
        "        running_loss += loss.item() * images.size(0)\n",
        "        preds = logits.argmax(dim=1)\n",
        "        correct += (preds == targets).sum().item()\n",
        "        total += targets.size(0)\n",
        "    return running_loss/total, correct/total\n",
        "\n",
        "\n",
        "@torch.no_grad()\n",
        "def evaluate(model, loader, criterion):\n",
        "    model.eval()\n",
        "    running_loss, correct, total = 0.0, 0, 0\n",
        "    all_logits, all_targets = [], []\n",
        "    for images, targets in loader:\n",
        "        images, targets = images.to(device), targets.to(device)\n",
        "        logits = model(images)\n",
        "        loss = criterion(logits, targets)\n",
        "\n",
        "        running_loss += loss.item() * images.size(0)\n",
        "        preds = logits.argmax(dim=1)\n",
        "        correct += (preds == targets).sum().item()\n",
        "        total += targets.size(0)\n",
        "\n",
        "        all_logits.append(logits.detach().cpu())\n",
        "        all_targets.append(targets.detach().cpu())\n",
        "\n",
        "    avg_loss = running_loss/total\n",
        "    acc = correct/total\n",
        "    all_logits = torch.cat(all_logits)\n",
        "    all_targets = torch.cat(all_targets)\n",
        "    return avg_loss, acc, all_logits, all_targets\n",
        "\n",
        "\n",
        "def macro_metrics(logits, targets, num_classes):\n",
        "    preds = logits.argmax(dim=1).numpy()\n",
        "    y_true = targets.numpy()\n",
        "    f1 = f1_score(y_true, preds, average=\"macro\", zero_division=0)\n",
        "    prec = precision_score(y_true, preds, average=\"macro\", zero_division=0)\n",
        "    rec = recall_score(y_true, preds, average=\"macro\", zero_division=0)\n",
        "\n",
        "    auc = None\n",
        "    try:\n",
        "        if num_classes > 2:\n",
        "            y_bin = np.eye(num_classes)[y_true]\n",
        "            auc = roc_auc_score(y_bin, logits.numpy(), multi_class=\"ovr\")\n",
        "        elif num_classes == 2:\n",
        "            probs = torch.softmax(torch.from_numpy(logits.numpy()), dim=1).numpy()[:, 1]\n",
        "            auc = roc_auc_score(y_true, probs)\n",
        "    except:\n",
        "        auc = None\n",
        "    return f1, prec, rec, auc\n",
        "\n",
        "\n",
        "epochs = 15\n",
        "lr = 1e-3\n",
        "weight_decay = 1e-4\n",
        "criterion = nn.CrossEntropyLoss(weight=class_weights_tensor if num_classes > 1 else None)\n",
        "\n",
        "trainable_params = [p for p in model.parameters() if p.requires_grad]\n",
        "optimizer = optim.AdamW(trainable_params, lr=lr, weight_decay=weight_decay)\n",
        "scheduler = optim.lr_scheduler.CosineAnnealingLR(optimizer, T_max=epochs)\n",
        "\n",
        "best_wts = copy.deepcopy(model.state_dict())\n",
        "best_acc = 0.0\n",
        "patience = 7\n",
        "epochs_no_improve = 0\n",
        "\n",
        "for epoch in range(1, epochs+1):\n",
        "    t0 = time.time()\n",
        "    tr_loss, tr_acc = train_one_epoch(model, dataloaders[\"train\"], optimizer, criterion)\n",
        "    val_loss, val_acc, val_logits, val_targets = evaluate(model, dataloaders[\"val\"], criterion)\n",
        "    f1, prec, rec, auc = macro_metrics(val_logits, val_targets, num_classes)\n",
        "\n",
        "    scheduler.step()\n",
        "\n",
        "    if val_acc > best_acc:\n",
        "        best_acc = val_acc\n",
        "        best_wts = copy.deepcopy(model.state_dict())\n",
        "        epochs_no_improve = 0\n",
        "        torch.save(model.state_dict(), \"best_cbam_fusion.pt\")\n",
        "    else:\n",
        "        epochs_no_improve += 1\n",
        "\n",
        "    dt = time.time() - t0\n",
        "    print(f\"Epoch {epoch:02d}/{epochs} | {dt:.1f}s \"\n",
        "          f\"| tr_loss {tr_loss:.4f} acc {tr_acc:.4f} \"\n",
        "          f\"| val_loss {val_loss:.4f} acc {val_acc:.4f} \"\n",
        "          f\"| F1 {f1:.4f} P {prec:.4f} R {rec:.4f} \"\n",
        "          f\"| AUC {auc if auc is not None else 'NA'}\")\n",
        "\n",
        "    if epochs_no_improve >= patience:\n",
        "        print(\"Early stopping.\")\n",
        "        break\n",
        "\n",
        "\n",
        "model.load_state_dict(best_wts)\n",
        "test_loss, test_acc, test_logits, test_targets = evaluate(model, dataloaders[\"test\"], criterion)\n",
        "f1, prec, rec, auc = macro_metrics(test_logits, test_targets, num_classes)\n",
        "print(f\"TEST | loss {test_loss:.4f} acc {test_acc:.4f} \"\n",
        "      f\"| F1 {f1:.4f} P {prec:.4f} R {rec:.4f} \"\n",
        "      f\"| AUC {auc if auc is not None else 'NA'}\")\n"
      ],
      "metadata": {
        "trusted": true,
        "execution": {
          "iopub.status.busy": "2025-09-11T02:03:41.327161Z",
          "iopub.execute_input": "2025-09-11T02:03:41.327512Z",
          "iopub.status.idle": "2025-09-11T04:33:02.983579Z",
          "shell.execute_reply.started": "2025-09-11T02:03:41.327487Z",
          "shell.execute_reply": "2025-09-11T04:33:02.981894Z"
        },
        "id": "i2aMEi1VI8iQ",
        "outputId": "62e0da93-2eac-4fdc-d82a-767a23dc7158"
      },
      "outputs": [
        {
          "name": "stdout",
          "text": "DataLoaders ready!\nTrain: 2110, Val: 527, Test: 660\nEpoch 01/15 | 581.0s | tr_loss 0.4162 acc 0.8109 | val_loss 0.5295 acc 0.8121 | F1 0.8119 P 0.8232 R 0.8291 | AUC 0.8975273911755997\nEpoch 02/15 | 584.2s | tr_loss 0.2907 acc 0.8687 | val_loss 0.4668 acc 0.8254 | F1 0.8251 P 0.8339 R 0.8411 | AUC 0.921587207580693\nEpoch 03/15 | 603.2s | tr_loss 0.2531 acc 0.8844 | val_loss 0.3322 acc 0.8596 | F1 0.8571 P 0.8549 R 0.8614 | AUC 0.9412644358898431\nEpoch 04/15 | 578.8s | tr_loss 0.2365 acc 0.8953 | val_loss 0.4149 acc 0.8482 | F1 0.8479 P 0.8557 R 0.8639 | AUC 0.949185667752443\nEpoch 05/15 | 592.5s | tr_loss 0.2008 acc 0.9057 | val_loss 0.3502 acc 0.8767 | F1 0.8751 P 0.8732 R 0.8825 | AUC 0.9493633402428191\nEpoch 06/15 | 606.4s | tr_loss 0.1842 acc 0.9199 | val_loss 0.2721 acc 0.8767 | F1 0.8726 P 0.8746 R 0.8710 | AUC 0.9568700029612083\nEpoch 07/15 | 596.8s | tr_loss 0.1655 acc 0.9294 | val_loss 0.4248 acc 0.8539 | F1 0.8530 P 0.8550 R 0.8649 | AUC 0.9430929819366303\nEpoch 08/15 | 580.7s | tr_loss 0.1486 acc 0.9379 | val_loss 0.3450 acc 0.8634 | F1 0.8552 P 0.8736 R 0.8473 | AUC 0.9514509920047379\nEpoch 09/15 | 613.9s | tr_loss 0.1519 acc 0.9422 | val_loss 0.3172 acc 0.8805 | F1 0.8732 P 0.8932 R 0.8645 | AUC 0.9625259105715132\nEpoch 10/15 | 583.6s | tr_loss 0.0905 acc 0.9640 | val_loss 0.3205 acc 0.8767 | F1 0.8730 P 0.8737 R 0.8722 | AUC 0.9592981936630145\nEpoch 11/15 | 588.7s | tr_loss 0.0717 acc 0.9749 | val_loss 0.3050 acc 0.9051 | F1 0.9027 P 0.9018 R 0.9038 | AUC 0.9627035830618893\nEpoch 12/15 | 602.6s | tr_loss 0.0650 acc 0.9739 | val_loss 0.2923 acc 0.9108 | F1 0.9079 P 0.9101 R 0.9061 | AUC 0.9665975718092982\nEpoch 13/15 | 588.5s | tr_loss 0.0602 acc 0.9777 | val_loss 0.2534 acc 0.9298 | F1 0.9278 P 0.9281 R 0.9275 | AUC 0.9733343204027243\nEpoch 14/15 | 592.0s | tr_loss 0.0370 acc 0.9863 | val_loss 0.2487 acc 0.9108 | F1 0.9086 P 0.9075 R 0.9099 | AUC 0.9736452472608825\nEpoch 15/15 | 594.6s | tr_loss 0.0296 acc 0.9924 | val_loss 0.2819 acc 0.8975 | F1 0.8942 P 0.8960 R 0.8927 | AUC 0.9699437370447144\nTEST | loss 0.3093 acc 0.9167 | F1 0.9160 P 0.9157 R 0.9164 | AUC 0.9702222222222222\n",
          "output_type": "stream"
        }
      ],
      "execution_count": null
    },
    {
      "cell_type": "markdown",
      "source": [
        "**Confusion Matrix**"
      ],
      "metadata": {
        "id": "sZbLDy9eI8iR"
      }
    },
    {
      "cell_type": "code",
      "source": [
        "\n",
        "def plot_confusion_matrix(logits, targets, classes):\n",
        "    preds = logits.argmax(dim=1).numpy()\n",
        "    y_true = targets.numpy()\n",
        "    cm = confusion_matrix(y_true, preds, labels=list(range(len(classes))))\n",
        "\n",
        "    fig = plt.figure(figsize=(6, 5))\n",
        "    plt.imshow(cm, interpolation='nearest')\n",
        "    plt.title(\"Confusion Matrix\")\n",
        "    tick_marks = np.arange(len(classes))\n",
        "    plt.xticks(tick_marks, classes, rotation=45, ha='right')\n",
        "    plt.yticks(tick_marks, classes)\n",
        "    plt.xlabel(\"Predicted\")\n",
        "    plt.ylabel(\"True\")\n",
        "\n",
        "    # Add counts\n",
        "    thresh = cm.max() / 2.0 if cm.max() > 0 else 0.5\n",
        "    for i in range(cm.shape[0]):\n",
        "        for j in range(cm.shape[1]):\n",
        "            plt.text(j, i, format(cm[i, j], 'd'),\n",
        "                     horizontalalignment=\"center\",\n",
        "                     color=\"white\" if cm[i, j] > thresh else \"black\")\n",
        "    plt.tight_layout()\n",
        "    plt.show()\n",
        "\n",
        "plot_confusion_matrix(test_logits, test_targets, class_names)\n"
      ],
      "metadata": {
        "trusted": true,
        "execution": {
          "iopub.status.busy": "2025-09-11T04:33:03.407412Z",
          "iopub.execute_input": "2025-09-11T04:33:03.407706Z",
          "iopub.status.idle": "2025-09-11T04:33:03.538651Z",
          "shell.execute_reply.started": "2025-09-11T04:33:03.407684Z",
          "shell.execute_reply": "2025-09-11T04:33:03.537634Z"
        },
        "id": "V1cKgKxxI8iR",
        "outputId": "52ec58bc-c952-4b54-b626-31d01415fb21"
      },
      "outputs": [
        {
          "output_type": "display_data",
          "data": {
            "text/plain": "<Figure size 600x500 with 1 Axes>",
            "image/png": "[encoded data removed]"
          },
          "metadata": {}
        }
      ],
      "execution_count": null
    },
    {
      "cell_type": "code",
      "source": [
        "test_loss, test_acc, test_logits, test_targets = evaluate(model, dataloaders[\"test\"], criterion)\n",
        "print(f\"Test Loss: {test_loss:.4f}\")\n",
        "print(f\"Test Accuracy: {test_acc:.4f}\")"
      ],
      "metadata": {
        "trusted": true,
        "execution": {
          "iopub.status.busy": "2025-09-11T04:39:43.458079Z",
          "iopub.execute_input": "2025-09-11T04:39:43.45853Z",
          "iopub.status.idle": "2025-09-11T04:40:55.862745Z",
          "shell.execute_reply.started": "2025-09-11T04:39:43.4585Z",
          "shell.execute_reply": "2025-09-11T04:40:55.861383Z"
        },
        "id": "6XL3iWKdI8iR",
        "outputId": "ae7d0c45-c118-4fef-d1e7-858f39e82c98"
      },
      "outputs": [
        {
          "name": "stdout",
          "text": "Test Loss: 0.3093\nTest Accuracy: 0.9167\n",
          "output_type": "stream"
        }
      ],
      "execution_count": null
    }
  ]
}